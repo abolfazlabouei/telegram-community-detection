{
 "cells": [
  {
   "cell_type": "code",
   "execution_count": 7,
   "metadata": {},
   "outputs": [
    {
     "name": "stdout",
     "output_type": "stream",
     "text": [
      "pandas version is: 2.3.1\n",
      "numpy version is: 2.3.1\n"
     ]
    }
   ],
   "source": [
    "import pandas as pd \n",
    "import numpy as np\n",
    "\n",
    "print(f\"pandas version is: {pd.__version__}\\nnumpy version is: {np.__version__}\")"
   ]
  },
  {
   "cell_type": "code",
   "execution_count": 21,
   "metadata": {},
   "outputs": [],
   "source": [
    "def load_and_filter_groups(filepath: str, min_members: int =200):\n",
    "    \"\"\"\n",
    "    read and filter groups\n",
    "    \"\"\"\n",
    "\n",
    "    df = pd.read_csv(filepath)\n",
    "\n",
    "    # remove groups that name is empty and participants > min_members \n",
    "    df = df[df[\"peer_name\"].notnull()]\n",
    "    df = df[df[\"participants\"] > min_members]\n",
    "\n",
    "\n",
    "    df = df.drop_duplicates(subset=\"peerid\")\n",
    "\n",
    "    return df.head(5) \n"
   ]
  },
  {
   "cell_type": "code",
   "execution_count": null,
   "metadata": {},
   "outputs": [],
   "source": [
    "import re\n",
    "def clean_text(text):\n",
    "    \"\"\"\n",
    "    پاک‌سازی متن فارسی: حذف لینک‌ها، ایموجی، کاراکترهای اضافی\n",
    "    \"\"\"\n",
    "    if pd.isnull(text):\n",
    "        return \"\"\n",
    "    # remove link\n",
    "    text = re.sub(r\"http\\S+|www\\S+|@\\S+\", \"\", text)\n",
    "    "
   ]
  },
  {
   "cell_type": "code",
   "execution_count": 22,
   "metadata": {},
   "outputs": [
    {
     "data": {
      "text/html": [
       "<div>\n",
       "<style scoped>\n",
       "    .dataframe tbody tr th:only-of-type {\n",
       "        vertical-align: middle;\n",
       "    }\n",
       "\n",
       "    .dataframe tbody tr th {\n",
       "        vertical-align: top;\n",
       "    }\n",
       "\n",
       "    .dataframe thead th {\n",
       "        text-align: right;\n",
       "    }\n",
       "</style>\n",
       "<table border=\"1\" class=\"dataframe\">\n",
       "  <thead>\n",
       "    <tr style=\"text-align: right;\">\n",
       "      <th></th>\n",
       "      <th>peerid</th>\n",
       "      <th>peer_name</th>\n",
       "      <th>about</th>\n",
       "      <th>type</th>\n",
       "      <th>participants</th>\n",
       "    </tr>\n",
       "  </thead>\n",
       "  <tbody>\n",
       "    <tr>\n",
       "      <th>0</th>\n",
       "      <td>-2070440254</td>\n",
       "      <td>SafaBR</td>\n",
       "      <td>NaN</td>\n",
       "      <td>superchat</td>\n",
       "      <td>1501</td>\n",
       "    </tr>\n",
       "    <tr>\n",
       "      <th>136223</th>\n",
       "      <td>1000002630</td>\n",
       "      <td>جنگ آب</td>\n",
       "      <td>جمع صاحبنظران و دلسوختگان بحران آب ایران، برای...</td>\n",
       "      <td>superchat</td>\n",
       "      <td>1000</td>\n",
       "    </tr>\n",
       "    <tr>\n",
       "      <th>136224</th>\n",
       "      <td>1000004268</td>\n",
       "      <td>?BADANSAZAN?</td>\n",
       "      <td>⚜️  قوانین سوپر گروه بدنسازان ⚜️ \\n? مطالب فقط...</td>\n",
       "      <td>superchat</td>\n",
       "      <td>377</td>\n",
       "    </tr>\n",
       "    <tr>\n",
       "      <th>136225</th>\n",
       "      <td>1000017302</td>\n",
       "      <td>شرکت جهان استیل@</td>\n",
       "      <td>09123716742 \\n66752365</td>\n",
       "      <td>superchat</td>\n",
       "      <td>228</td>\n",
       "    </tr>\n",
       "    <tr>\n",
       "      <th>136226</th>\n",
       "      <td>1000018933</td>\n",
       "      <td>❀طب سنتی و علم پزشکی❀</td>\n",
       "      <td>?مخاطب گروه:آقايان و بانوان\\n\\n?موضوع:مطالب پز...</td>\n",
       "      <td>superchat</td>\n",
       "      <td>296</td>\n",
       "    </tr>\n",
       "  </tbody>\n",
       "</table>\n",
       "</div>"
      ],
      "text/plain": [
       "            peerid              peer_name  \\\n",
       "0      -2070440254                 SafaBR   \n",
       "136223  1000002630                 جنگ آب   \n",
       "136224  1000004268           ?BADANSAZAN?   \n",
       "136225  1000017302       شرکت جهان استیل@   \n",
       "136226  1000018933  ❀طب سنتی و علم پزشکی❀   \n",
       "\n",
       "                                                    about       type  \\\n",
       "0                                                     NaN  superchat   \n",
       "136223  جمع صاحبنظران و دلسوختگان بحران آب ایران، برای...  superchat   \n",
       "136224  ⚜️  قوانین سوپر گروه بدنسازان ⚜️ \\n? مطالب فقط...  superchat   \n",
       "136225                             09123716742 \\n66752365  superchat   \n",
       "136226  ?مخاطب گروه:آقايان و بانوان\\n\\n?موضوع:مطالب پز...  superchat   \n",
       "\n",
       "        participants  \n",
       "0               1501  \n",
       "136223          1000  \n",
       "136224           377  \n",
       "136225           228  \n",
       "136226           296  "
      ]
     },
     "execution_count": 22,
     "metadata": {},
     "output_type": "execute_result"
    }
   ],
   "source": [
    "load_and_filter_groups(filepath=\"/mnt/d/Uni/thesis/data/idekav_subscription.csv\")"
   ]
  },
  {
   "cell_type": "code",
   "execution_count": null,
   "metadata": {},
   "outputs": [],
   "source": []
  },
  {
   "cell_type": "code",
   "execution_count": null,
   "metadata": {},
   "outputs": [],
   "source": []
  }
 ],
 "metadata": {
  "kernelspec": {
   "display_name": "uni",
   "language": "python",
   "name": "python3"
  },
  "language_info": {
   "codemirror_mode": {
    "name": "ipython",
    "version": 3
   },
   "file_extension": ".py",
   "mimetype": "text/x-python",
   "name": "python",
   "nbconvert_exporter": "python",
   "pygments_lexer": "ipython3",
   "version": "3.12.3"
  }
 },
 "nbformat": 4,
 "nbformat_minor": 2
}
